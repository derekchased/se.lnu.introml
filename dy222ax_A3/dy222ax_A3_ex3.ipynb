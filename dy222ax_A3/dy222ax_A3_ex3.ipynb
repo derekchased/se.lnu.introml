{
 "cells": [
  {
   "cell_type": "markdown",
   "id": "ea63feb3",
   "metadata": {},
   "source": [
    "Derek Yadgaroff\n",
    "\n",
    "Assignment 3, Exercise 3\n",
    "\n",
    "21VT-2DV516"
   ]
  },
  {
   "cell_type": "code",
   "execution_count": 1,
   "id": "2664b091",
   "metadata": {},
   "outputs": [],
   "source": [
    "import numpy as np\n",
    "from scipy.stats import mode"
   ]
  },
  {
   "cell_type": "code",
   "execution_count": 2,
   "id": "5ab5b0de",
   "metadata": {},
   "outputs": [],
   "source": [
    "# Set seed\n",
    "rng = np.random.default_rng(3)"
   ]
  },
  {
   "cell_type": "code",
   "execution_count": 3,
   "id": "6e0c98a6",
   "metadata": {},
   "outputs": [],
   "source": [
    "data = np.loadtxt('./data/gen.csv',delimiter=',', skiprows=1)\n",
    "y = data[:]"
   ]
  },
  {
   "cell_type": "markdown",
   "id": "2291f3b1",
   "metadata": {},
   "source": [
    "### Example w"
   ]
  },
  {
   "cell_type": "code",
   "execution_count": 4,
   "id": "2948ff43",
   "metadata": {},
   "outputs": [],
   "source": [
    "n = len(y)\n",
    "w = rng.integers(0,2,n)\n",
    "p = rng.random()\n",
    "q_size = int(n*p)\n",
    "q_range = np.arange(n)\n",
    "q = rng.choice(q_range, q_size, False)"
   ]
  },
  {
   "cell_type": "code",
   "execution_count": 5,
   "id": "60fa4e3c",
   "metadata": {},
   "outputs": [
    {
     "name": "stdout",
     "output_type": "stream",
     "text": [
      "\tActual\tAccuracy\n",
      "Before:\t800\t0.5\n",
      "After:\t926\t0.57875\n",
      "Change:\t126\t0.07874999999999999\n"
     ]
    }
   ],
   "source": [
    "corr_before = np.sum(w==y)\n",
    "acc_before = corr_before/n\n",
    "\n",
    "print(\"\\tActual\\tAccuracy\")\n",
    "print(f\"Before:\\t{corr_before}\\t{acc_before}\")\n",
    "w[q] = y[q]\n",
    "\n",
    "corr_after = np.sum(w==y)\n",
    "acc_after = corr_after/n\n",
    "\n",
    "print(f\"After:\\t{corr_after}\\t{acc_after}\")\n",
    "print(f\"Change:\\t{corr_after-corr_before}\\t{acc_after-acc_before}\")"
   ]
  },
  {
   "cell_type": "markdown",
   "id": "1a2be328",
   "metadata": {},
   "source": [
    "### Ensemble w"
   ]
  },
  {
   "cell_type": "code",
   "execution_count": 6,
   "id": "3652bec6",
   "metadata": {},
   "outputs": [],
   "source": [
    "n = len(y)\n",
    "num_w = 100\n",
    "p = .1\n",
    "q_range = np.arange(n)\n",
    "q_size = int(n*p)\n",
    "\n",
    "# Create the w model as a matrix\n",
    "w = rng.integers(0,2,(n,num_w))\n",
    "\n",
    "# Convert the y values to a corresponding matrix\n",
    "y_mat = np.repeat(y[:,np.newaxis],w.shape[1],1)\n",
    "\n",
    "# Benchmark each model before forcing some correct predictions\n",
    "corr_before_avg = np.sum(np.sum(w==y_mat,axis=0))/num_w\n",
    "acc_before_avg = np.sum(corr_before/n)/num_w\n",
    "\n",
    "# Force correct predictions\n",
    "for i in range(num_w):\n",
    "    q = rng.choice(q_range, q_size, False)\n",
    "    w[q,i] = y[q]\n",
    "    \n",
    "# Benchmark each model after forcing some correct predictions\n",
    "corr_after_avg = np.sum(np.sum(w==y_mat,axis=0))/num_w\n",
    "acc_after_avg = np.sum(corr_after/n)/num_w\n",
    "\n",
    "\n",
    "# Create an ensemble of models through majority voting (equivalent to the mode for each row)\n",
    "z, count = mode(w,axis=1)\n",
    "z = z.reshape(-1,)\n",
    "z_corr = np.sum(z == y)\n",
    "z_acc = z_corr/n"
   ]
  },
  {
   "cell_type": "code",
   "execution_count": 7,
   "id": "bf056ed2",
   "metadata": {},
   "outputs": [
    {
     "name": "stdout",
     "output_type": "stream",
     "text": [
      "   Actual (avg model)\tAccuracy (avg model)\n",
      "Before:\t799.15\t\t0.005\n",
      "After:\t879.72\t\t0.0057875\n",
      "\n",
      "=Majority Vote=\n",
      "\t1341\t\t0.838125\n",
      "\n",
      "Change:\t461.28\t0.8323375000000001\n",
      "\n",
      "\n",
      "Reflect:\n",
      "We can see that the ensemble of weak learners performs better than each individual weak learner. The improvaverage improvement is 153.76 more correct predictions which translates to an improvement in accuracy of 27.745%\n"
     ]
    }
   ],
   "source": [
    "print(\"   Actual (avg model)\\tAccuracy (avg model)\")\n",
    "print(f\"Before:\\t{corr_before_avg}\\t\\t{acc_before_avg}\")\n",
    "print(f\"After:\\t{corr_after_avg}\\t\\t{acc_after_avg}\")\n",
    "print(\"\\n=Majority Vote=\")\n",
    "print(f\"\\t{z_corr}\\t\\t{z_acc}\")\n",
    "print(f\"\\nChange:\\t{z_corr-corr_after_avg}\\t{z_acc-acc_after_avg}\")\n",
    "print(f\"\\n\\nReflect:\\nWe can see that the ensemble of weak learners performs\\\n",
    " better than each individual weak learner. The improvaverage\\\n",
    " improvement is {(np.sum(z_corr-corr_after_avg)/3):.2f} more correct predictions which translates\\\n",
    " to an improvement in accuracy of {(100*(np.sum(z_acc-acc_after_avg)/3)):.3f}%\")"
   ]
  },
  {
   "cell_type": "markdown",
   "id": "6e9f42f0",
   "metadata": {},
   "source": [
    "### Assignment Questions"
   ]
  },
  {
   "cell_type": "markdown",
   "id": "8b9333ba",
   "metadata": {},
   "source": [
    "#### Question a"
   ]
  },
  {
   "cell_type": "markdown",
   "id": "e6d1cb9b",
   "metadata": {
    "variables": {
     "round(100*z_acc,3)": "83.812"
    }
   },
   "source": [
    "From the previous output, we see for this sample and this ensemble, we have an accuracy of {{round(100*z_acc,3)}}%"
   ]
  },
  {
   "cell_type": "markdown",
   "id": "cfd1b773",
   "metadata": {},
   "source": [
    "#### Question b"
   ]
  },
  {
   "cell_type": "code",
   "execution_count": 8,
   "id": "7d6cb0a5",
   "metadata": {},
   "outputs": [
    {
     "name": "stdout",
     "output_type": "stream",
     "text": [
      "182 582\n"
     ]
    }
   ],
   "source": [
    "n = len(y)\n",
    "p2 = .05\n",
    "q_range = np.arange(n)\n",
    "q_size = int(n*p2)\n",
    "\n",
    "for index,num_w2 in enumerate(range(400,600)):\n",
    "    # Create the w model as a matrix\n",
    "    w = rng.integers(0,2,(n,num_w2))\n",
    "\n",
    "    # Convert the y values to a corresponding matrix\n",
    "    y_mat = np.repeat(y[:,np.newaxis],w.shape[1],1)\n",
    "\n",
    "    # Force correct predictions\n",
    "    for i in range(num_w2):\n",
    "        q = rng.choice(q_range, q_size, False)\n",
    "        w[q,i] = y[q]\n",
    "\n",
    "    # Create an ensemble of models through majority voting (equivalent to the mode for each row)\n",
    "    z, count = mode(w,axis=1)\n",
    "    z = z.reshape(-1,)\n",
    "    z_corr = np.sum(z == y)\n",
    "    z_acc = z_corr/n\n",
    "    if(z_acc > .9):\n",
    "        break\n",
    "print(index, num_w2)"
   ]
  },
  {
   "cell_type": "markdown",
   "id": "b53255c6",
   "metadata": {
    "variables": {
     "num_w2": "582"
    }
   },
   "source": [
    "It takes {{num_w2}} w in the ensemble to reach an accuracy greater than 90%"
   ]
  },
  {
   "cell_type": "markdown",
   "id": "8786be21",
   "metadata": {},
   "source": [
    "#### Question c"
   ]
  },
  {
   "cell_type": "code",
   "execution_count": 9,
   "id": "0623d69f",
   "metadata": {},
   "outputs": [
    {
     "name": "stdout",
     "output_type": "stream",
     "text": [
      "337 0.6026052104208417\n"
     ]
    }
   ],
   "source": [
    "n = len(y)\n",
    "num_w3 = 5\n",
    "q_range = np.arange(n)\n",
    "\n",
    "for index, p3 in enumerate(np.linspace(.4,.7,500)):\n",
    "    q_size = int(n*p3)\n",
    "    # Create the w model as a matrix\n",
    "    w = rng.integers(0,2,(n,num_w3))\n",
    "\n",
    "    # Convert the y values to a corresponding matrix\n",
    "    y_mat = np.repeat(y[:,np.newaxis],w.shape[1],1)\n",
    "\n",
    "    # Force correct predictions\n",
    "    for i in range(num_w3):\n",
    "        q = rng.choice(q_range, q_size, False)\n",
    "        w[q,i] = y[q]\n",
    "\n",
    "    # Create an ensemble of models through majority voting (equivalent to the mode for each row)\n",
    "    z, count = mode(w,axis=1)\n",
    "    z = z.reshape(-1,)\n",
    "    z_corr = np.sum(z == y)\n",
    "    z_acc = z_corr/n\n",
    "    if(z_acc > .95):\n",
    "        break\n",
    "print(index, p3)"
   ]
  },
  {
   "cell_type": "markdown",
   "id": "af33fb38",
   "metadata": {
    "variables": {
     "p3": "0.6026052104208417"
    }
   },
   "source": [
    "A suitable value of p is {{p3}} to reach an accuracy above .95 with 5 w."
   ]
  },
  {
   "cell_type": "markdown",
   "id": "74b08cb2",
   "metadata": {},
   "source": [
    "#### Question d"
   ]
  },
  {
   "cell_type": "code",
   "execution_count": 10,
   "id": "af35f4bc",
   "metadata": {},
   "outputs": [
    {
     "name": "stdout",
     "output_type": "stream",
     "text": [
      "[0.693125, 0.76125, 0.826875, 0.91125, 0.986875]\n"
     ]
    }
   ],
   "source": [
    "n = len(y)\n",
    "p4 = .3\n",
    "q_range = np.arange(n)\n",
    "q_size = int(n*p4)\n",
    "num_w4_arr = [3,5,10,20,50]\n",
    "accuracy4=[]\n",
    "\n",
    "for index,num_w4 in enumerate(num_w4_arr):\n",
    "    # Create the w model as a matrix\n",
    "    w = rng.integers(0,2,(n,num_w4))\n",
    "\n",
    "    # Convert the y values to a corresponding matrix\n",
    "    y_mat = np.repeat(y[:,np.newaxis],w.shape[1],1)\n",
    "\n",
    "    # Force correct predictions\n",
    "    for i in range(num_w4):\n",
    "        q = rng.choice(q_range, q_size, False)\n",
    "        w[q,i] = y[q]\n",
    "\n",
    "    # Create an ensemble of models through majority voting (equivalent to the mode for each row)\n",
    "    z, count = mode(w,axis=1)\n",
    "    z = z.reshape(-1,)\n",
    "    z_corr = np.sum(z == y)\n",
    "    z_acc = z_corr/n\n",
    "    accuracy4.append(z_acc)\n",
    "    \n",
    "print(accuracy4)\n"
   ]
  },
  {
   "cell_type": "code",
   "execution_count": null,
   "id": "13b504f6",
   "metadata": {},
   "outputs": [],
   "source": [
    "#PLOT HERE"
   ]
  }
 ],
 "metadata": {
  "kernelspec": {
   "display_name": "Python 3",
   "language": "python",
   "name": "python3"
  },
  "language_info": {
   "codemirror_mode": {
    "name": "ipython",
    "version": 3
   },
   "file_extension": ".py",
   "mimetype": "text/x-python",
   "name": "python",
   "nbconvert_exporter": "python",
   "pygments_lexer": "ipython3",
   "version": "3.7.10"
  },
  "varInspector": {
   "cols": {
    "lenName": 16,
    "lenType": 16,
    "lenVar": 40
   },
   "kernels_config": {
    "python": {
     "delete_cmd_postfix": "",
     "delete_cmd_prefix": "del ",
     "library": "var_list.py",
     "varRefreshCmd": "print(var_dic_list())"
    },
    "r": {
     "delete_cmd_postfix": ") ",
     "delete_cmd_prefix": "rm(",
     "library": "var_list.r",
     "varRefreshCmd": "cat(var_dic_list()) "
    }
   },
   "types_to_exclude": [
    "module",
    "function",
    "builtin_function_or_method",
    "instance",
    "_Feature"
   ],
   "window_display": false
  }
 },
 "nbformat": 4,
 "nbformat_minor": 5
}
