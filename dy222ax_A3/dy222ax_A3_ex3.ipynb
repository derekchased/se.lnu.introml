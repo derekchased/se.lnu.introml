{
 "cells": [
  {
   "cell_type": "markdown",
   "id": "ea63feb3",
   "metadata": {},
   "source": [
    "Derek Yadgaroff\n",
    "\n",
    "Assignment 3, Exercise 3\n",
    "\n",
    "21VT-2DV516"
   ]
  },
  {
   "cell_type": "code",
   "execution_count": 19,
   "id": "2664b091",
   "metadata": {},
   "outputs": [],
   "source": [
    "import numpy as np\n",
    "from scipy.stats import mode"
   ]
  },
  {
   "cell_type": "code",
   "execution_count": 2,
   "id": "5ab5b0de",
   "metadata": {},
   "outputs": [],
   "source": [
    "# Set seed\n",
    "rng = np.random.default_rng(3)"
   ]
  },
  {
   "cell_type": "code",
   "execution_count": 3,
   "id": "6e0c98a6",
   "metadata": {},
   "outputs": [],
   "source": [
    "data = np.loadtxt('./data/gen.csv',delimiter=',', skiprows=1)\n",
    "y = data[:]"
   ]
  },
  {
   "cell_type": "markdown",
   "id": "2291f3b1",
   "metadata": {},
   "source": [
    "### Example w"
   ]
  },
  {
   "cell_type": "code",
   "execution_count": 81,
   "id": "2948ff43",
   "metadata": {},
   "outputs": [],
   "source": [
    "n = len(y)\n",
    "w = rng.integers(0,2,n)\n",
    "p = .1#rng.random()\n",
    "q_range = np.arange(n)\n",
    "q_size = int(n*p)\n",
    "q = rng.choice(q_range, q_size, False)"
   ]
  },
  {
   "cell_type": "code",
   "execution_count": 82,
   "id": "60fa4e3c",
   "metadata": {},
   "outputs": [
    {
     "name": "stdout",
     "output_type": "stream",
     "text": [
      "774 0.48375\n",
      "848 0.53\n",
      "diff 74 0.04625000000000001\n"
     ]
    }
   ],
   "source": [
    "corr_before = np.sum(w==y)\n",
    "acc_before = corr_before/n\n",
    "\n",
    "print(corr_before, acc_before)\n",
    "w[q] = y[q]\n",
    "\n",
    "corr_after = np.sum(w==y)\n",
    "acc_after = corr_after/n\n",
    "print(corr_after,acc_after)\n",
    "\n",
    "print(\"diff\", corr_after-corr_before, acc_after-acc_before)"
   ]
  },
  {
   "cell_type": "markdown",
   "id": "1a2be328",
   "metadata": {},
   "source": [
    "### Ensemble w"
   ]
  },
  {
   "cell_type": "code",
   "execution_count": 83,
   "id": "3652bec6",
   "metadata": {},
   "outputs": [
    {
     "name": "stdout",
     "output_type": "stream",
     "text": [
      "[755 788 764] [0.471875 0.4925   0.4775  ]\n",
      "[840 868 850] [0.525   0.5425  0.53125]\n",
      "862 0.53875\n"
     ]
    }
   ],
   "source": [
    "n = len(y)\n",
    "num_w = 3\n",
    "p = .1\n",
    "q_range = np.arange(n)\n",
    "q_size = int(n*p)\n",
    "w_ensemble = []\n",
    "w = rng.integers(0,2,(n,num_w))\n",
    "y_mat = np.repeat(y[:,np.newaxis],w.shape[1],1)\n",
    "corr_before = np.sum(w==y_mat,axis=0)\n",
    "acc_before = corr_before/n\n",
    "print(corr_before,acc_before)\n",
    "for i in range(num_w):\n",
    "    q = rng.choice(q_range, q_size, False)\n",
    "    w[q,i] = y[q]\n",
    "corr_after = np.sum(w==y_mat,axis=0)\n",
    "acc_after = corr_after/n\n",
    "print(corr_after,acc_after)\n",
    "z, count = mode(w,axis=1)\n",
    "z = z.reshape(-1,)\n",
    "z_corr = np.sum(z == y)\n",
    "z_acc = z_corr/n\n",
    "print(z_corr,z_acc)"
   ]
  },
  {
   "cell_type": "code",
   "execution_count": null,
   "id": "89a2f715",
   "metadata": {},
   "outputs": [],
   "source": []
  },
  {
   "cell_type": "code",
   "execution_count": null,
   "id": "e9d2e8a4",
   "metadata": {},
   "outputs": [],
   "source": []
  },
  {
   "cell_type": "code",
   "execution_count": null,
   "id": "7d6cb0a5",
   "metadata": {},
   "outputs": [],
   "source": []
  }
 ],
 "metadata": {
  "kernelspec": {
   "display_name": "Python 3",
   "language": "python",
   "name": "python3"
  },
  "language_info": {
   "codemirror_mode": {
    "name": "ipython",
    "version": 3
   },
   "file_extension": ".py",
   "mimetype": "text/x-python",
   "name": "python",
   "nbconvert_exporter": "python",
   "pygments_lexer": "ipython3",
   "version": "3.7.10"
  },
  "varInspector": {
   "cols": {
    "lenName": 16,
    "lenType": 16,
    "lenVar": 40
   },
   "kernels_config": {
    "python": {
     "delete_cmd_postfix": "",
     "delete_cmd_prefix": "del ",
     "library": "var_list.py",
     "varRefreshCmd": "print(var_dic_list())"
    },
    "r": {
     "delete_cmd_postfix": ") ",
     "delete_cmd_prefix": "rm(",
     "library": "var_list.r",
     "varRefreshCmd": "cat(var_dic_list()) "
    }
   },
   "types_to_exclude": [
    "module",
    "function",
    "builtin_function_or_method",
    "instance",
    "_Feature"
   ],
   "window_display": false
  }
 },
 "nbformat": 4,
 "nbformat_minor": 5
}
