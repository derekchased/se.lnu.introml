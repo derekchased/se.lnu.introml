{
 "cells": [
  {
   "cell_type": "markdown",
   "id": "ea63feb3",
   "metadata": {},
   "source": [
    "Derek Yadgaroff\n",
    "\n",
    "Assignment 3, Exercise 4\n",
    "\n",
    "21VT-2DV516"
   ]
  },
  {
   "cell_type": "code",
   "execution_count": 9,
   "id": "2664b091",
   "metadata": {},
   "outputs": [],
   "source": [
    "# import matplotlib.pyplot as plt\n",
    "\n",
    "from sklearn.svm import SVC\n",
    "import numpy as np\n",
    "from sklearn.model_selection import GridSearchCV\n",
    "from sklearn.datasets import fetch_openml\n",
    "from sklearn.model_selection import train_test_split\n",
    "from sklearn.preprocessing import MinMaxScaler"
   ]
  },
  {
   "cell_type": "code",
   "execution_count": 10,
   "id": "6e0c98a6",
   "metadata": {},
   "outputs": [],
   "source": [
    "# Load data\n",
    "X, y = fetch_openml('mnist_784', version=1, return_X_y=True, as_frame=False)"
   ]
  },
  {
   "cell_type": "code",
   "execution_count": 11,
   "id": "6f10dbcd",
   "metadata": {},
   "outputs": [
    {
     "name": "stdout",
     "output_type": "stream",
     "text": [
      "(70000, 784) (70000,)\n",
      "(35000, 784) (35000,)\n"
     ]
    }
   ],
   "source": [
    "# Pick size of dataset to use since it is very large\n",
    "reduction = .5\n",
    "reduced = int(X.shape[0]*reduction)\n",
    "\n",
    "# This is a view, not a copy!\n",
    "X_reduced = X[:reduced]\n",
    "y_reduced = y[:reduced]\n",
    "\n",
    "print(X.shape, y.shape)\n",
    "print(X_reduced.shape, y_reduced.shape)"
   ]
  },
  {
   "cell_type": "code",
   "execution_count": 12,
   "id": "5ab5b0de",
   "metadata": {},
   "outputs": [],
   "source": [
    "# Set seed\n",
    "rng = np.random.default_rng(3)\n",
    "permutation = rng.permutation(X_reduced.shape[0])"
   ]
  },
  {
   "cell_type": "code",
   "execution_count": 13,
   "id": "4166bff7",
   "metadata": {},
   "outputs": [],
   "source": [
    "# Randomize Data\n",
    "X_randomized = X_reduced[permutation]\n",
    "y_randomized = y_reduced[permutation]\n",
    "\n",
    "# Normalize Data\n",
    "scaler = MinMaxScaler()\n",
    "X_randomized_normalized = scaler.fit_transform(X_randomized)\n",
    "\n",
    "# Split Data\n",
    "X_train, X_test, y_train, y_test = train_test_split(X_randomized_normalized, y_randomized, train_size = .7, shuffle=False)"
   ]
  },
  {
   "cell_type": "code",
   "execution_count": null,
   "id": "3971c923",
   "metadata": {},
   "outputs": [],
   "source": [
    "# Hypertuning values of C and gamma\n",
    "gscv = GridSearchCV(SVC(), {'kernel':['rbf'], 'C':[.1,1,10,100],'gamma':[.1,1,10,100], 'degree':[1, 2,3]}, cv = 5, refit=True)\n",
    "gscv.fit(X_train,y_train)"
   ]
  },
  {
   "cell_type": "code",
   "execution_count": null,
   "id": "bb1da6ca",
   "metadata": {},
   "outputs": [],
   "source": [
    "clf = gscv.best_estimator_\n",
    "    \n",
    "# Separate vectors\n",
    "X1 = X_train[clf.support_, 0]\n",
    "X2 = X_train[clf.support_, 1]\n",
    "\n",
    "# Meshgrid\n",
    "x_min, x_max = X1.min() - 0.1, X1.max() + 0.1\n",
    "y_min, y_max = X2.min() - 0.1, X2.max() + 0.1\n",
    "xx, yy = np.meshgrid(np.arange(x_min, x_max, .01),\n",
    "                     np.arange(y_min, y_max, .01))  # Mesh Grid\n",
    "\n",
    "# plot boundary and data points for Train set\n",
    "fig = plt.figure()\n",
    "title = \"TRAIN, accuracy \"+str(round(abs(gscv.best_score_),5))+\" \"\n",
    "for key in gscv.best_params_:\n",
    "    title = title+key+\":\"+str(gscv.best_params_[key])+\" \"\n",
    "fig.suptitle(title)\n",
    "ax = fig.add_subplot(1, 1, 1)\n",
    "\n",
    "\n",
    "Z = clf.predict(np.c_[xx.ravel(), yy.ravel()])\n",
    "\n",
    "# Map of predictions\n",
    "Z = Z.reshape(xx.shape)\n",
    "\n",
    "# Show the boundary\n",
    "ax.contour(xx, yy, Z, colors='r',linewidths=0.2)\n",
    "\n",
    "ax.scatter(X_train[:,0], X_train[:,1], s=.5,c=y_train)\n",
    "plt.show()\n",
    "\n",
    "# plot boundary and data points for Test set\n",
    "accuracy = str(round(abs(clf.score(X_test, y_test)),5))\n",
    "fig = plt.figure()\n",
    "title = \"TEST, accuracy: \" + accuracy\n",
    "fig.suptitle(title)\n",
    "ax = fig.add_subplot(1, 1, 1)\n",
    "\n",
    "Z = clf.predict(np.c_[xx.ravel(), yy.ravel()])\n",
    "\n",
    "# Map of predictions\n",
    "Z = Z.reshape(xx.shape)\n",
    "\n",
    "# Show the boundary\n",
    "ax.contour(xx, yy, Z, colors='r',linewidths=0.2)\n",
    "ax.scatter(X_test[:,0], X_test[:,1], s=.5,c=y_test)\n",
    "plt.show()"
   ]
  }
 ],
 "metadata": {
  "kernelspec": {
   "display_name": "Python 3",
   "language": "python",
   "name": "python3"
  },
  "language_info": {
   "codemirror_mode": {
    "name": "ipython",
    "version": 3
   },
   "file_extension": ".py",
   "mimetype": "text/x-python",
   "name": "python",
   "nbconvert_exporter": "python",
   "pygments_lexer": "ipython3",
   "version": "3.7.10"
  },
  "varInspector": {
   "cols": {
    "lenName": 16,
    "lenType": 16,
    "lenVar": 40
   },
   "kernels_config": {
    "python": {
     "delete_cmd_postfix": "",
     "delete_cmd_prefix": "del ",
     "library": "var_list.py",
     "varRefreshCmd": "print(var_dic_list())"
    },
    "r": {
     "delete_cmd_postfix": ") ",
     "delete_cmd_prefix": "rm(",
     "library": "var_list.r",
     "varRefreshCmd": "cat(var_dic_list()) "
    }
   },
   "types_to_exclude": [
    "module",
    "function",
    "builtin_function_or_method",
    "instance",
    "_Feature"
   ],
   "window_display": false
  }
 },
 "nbformat": 4,
 "nbformat_minor": 5
}
