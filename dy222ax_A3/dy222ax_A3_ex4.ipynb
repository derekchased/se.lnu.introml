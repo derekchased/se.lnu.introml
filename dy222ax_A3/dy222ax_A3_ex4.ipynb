{
 "cells": [
  {
   "cell_type": "markdown",
   "id": "ea63feb3",
   "metadata": {},
   "source": [
    "Derek Yadgaroff\n",
    "\n",
    "Assignment 3, Exercise 4\n",
    "\n",
    "21VT-2DV516"
   ]
  },
  {
   "cell_type": "code",
   "execution_count": 20,
   "id": "ab026d1a",
   "metadata": {},
   "outputs": [],
   "source": [
    "from sklearn.tree import DecisionTreeClassifier\n",
    "import numpy as np\n",
    "import matplotlib.pyplot as plt\n",
    "from sklearn.model_selection import train_test_split\n",
    "from scipy.stats import mode"
   ]
  },
  {
   "cell_type": "code",
   "execution_count": 3,
   "id": "43578bd9",
   "metadata": {},
   "outputs": [],
   "source": [
    "# Load data\n",
    "data = np.loadtxt('./data/bm.csv',delimiter=',')\n",
    "X = data[:, 0:-1]\n",
    "y = data[:, -1]"
   ]
  },
  {
   "cell_type": "code",
   "execution_count": 4,
   "id": "e3c00c81",
   "metadata": {},
   "outputs": [],
   "source": [
    "# Set seed\n",
    "rng = np.random.default_rng(3)\n",
    "permutation = rng.permutation(X.shape[0])"
   ]
  },
  {
   "cell_type": "code",
   "execution_count": 5,
   "id": "c2425e89",
   "metadata": {},
   "outputs": [],
   "source": [
    "# Randomize Data\n",
    "X_randomized = X[permutation]\n",
    "y_randomized = y[permutation]\n",
    "\n",
    "# Split Data\n",
    "X_train, X_test, y_train, y_test = train_test_split(X_randomized,\n",
    "                                                    y_randomized,\n",
    "                                                    train_size = .5, shuffle=False)"
   ]
  },
  {
   "cell_type": "code",
   "execution_count": 6,
   "id": "5bb6e348",
   "metadata": {},
   "outputs": [],
   "source": [
    "# Set subsets\n",
    "n = 5000\n",
    "num_trees= 100\n",
    "\n",
    "# Create subset indices here so we can reproduce results easily\n",
    "q_list = []\n",
    "for i in range(num_trees):\n",
    "    q = rng.choice(n, n, True)\n",
    "    q_list.append(q)"
   ]
  },
  {
   "cell_type": "code",
   "execution_count": 7,
   "id": "334ed2eb",
   "metadata": {},
   "outputs": [],
   "source": [
    "# Create list of data to be used by each tree in the ensmble\n",
    "\n",
    "X_train_list = []\n",
    "y_train_list = []\n",
    "\n",
    "for q in q_list:\n",
    "    X_train_i = X_train[q]\n",
    "    y_train_i = y_train[q]\n",
    "    \n",
    "    X_train_list.append(X_train_i)\n",
    "    y_train_list.append(y_train_i)"
   ]
  },
  {
   "cell_type": "code",
   "execution_count": 32,
   "id": "05a86963",
   "metadata": {},
   "outputs": [],
   "source": [
    "# Create list of individual tree predictions which will make up the ensemble\n",
    "z_list = []\n",
    "\n",
    "# Tally total score of individual trees\n",
    "ind_total_score = 0\n",
    "\n",
    "# Create, fit, predict for each individual tree , tally score and accuracy\n",
    "for X_train_tree, y_train_tree in zip(X_train_list,y_train_list):\n",
    "    clf = DecisionTreeClassifier()\n",
    "    clf.fit(X_train_tree, y_train_tree)\n",
    "    z = clf.predict(X_test)\n",
    "    score = np.sum(z==y_test)\n",
    "    ind_total_score += score\n",
    "    acc = score/n\n",
    "    z_list.append(z)\n",
    "ind_total_acc = ind_total_score/(n*num_trees)"
   ]
  },
  {
   "cell_type": "code",
   "execution_count": 33,
   "id": "84c83ccc",
   "metadata": {},
   "outputs": [],
   "source": [
    "# Convert list of trees's predictions to a matrix (the ensemble)\n",
    "ensemble = np.array(z_list).T\n",
    "z_ensemble, count = mode(ensemble,axis=1)\n",
    "z_corr = np.sum(z_ensemble.reshape(-1,) == y_test)\n",
    "z_acc = z_corr/n\n"
   ]
  },
  {
   "cell_type": "markdown",
   "id": "966e954f",
   "metadata": {},
   "source": [
    "### Question a"
   ]
  },
  {
   "cell_type": "code",
   "execution_count": 34,
   "id": "e0c1fc70",
   "metadata": {},
   "outputs": [
    {
     "name": "stdout",
     "output_type": "stream",
     "text": [
      "0.9778\n"
     ]
    }
   ],
   "source": [
    "print(z_acc)"
   ]
  },
  {
   "cell_type": "markdown",
   "id": "52e54d2e",
   "metadata": {},
   "source": [
    "### Question b"
   ]
  },
  {
   "cell_type": "code",
   "execution_count": 35,
   "id": "6de09523",
   "metadata": {},
   "outputs": [
    {
     "name": "stdout",
     "output_type": "stream",
     "text": [
      "0.963518\n"
     ]
    }
   ],
   "source": [
    "\n",
    "print(ind_total_acc)"
   ]
  },
  {
   "cell_type": "markdown",
   "id": "2f7570f6",
   "metadata": {},
   "source": [
    "### Question c"
   ]
  },
  {
   "cell_type": "code",
   "execution_count": null,
   "id": "9ad510d4",
   "metadata": {},
   "outputs": [],
   "source": []
  },
  {
   "cell_type": "markdown",
   "id": "ea3f8e0f",
   "metadata": {},
   "source": [
    "### Question d"
   ]
  },
  {
   "cell_type": "code",
   "execution_count": null,
   "id": "3aa7bfe7",
   "metadata": {},
   "outputs": [],
   "source": []
  },
  {
   "cell_type": "code",
   "execution_count": null,
   "id": "3971c923",
   "metadata": {},
   "outputs": [],
   "source": [
    "# Ex A.2\n",
    "# rbf = gaussian,\n",
    "clf = SVC(kernel=\"rbf\", gamma=.5, C=20)\n",
    "clf.fit(X_train, y_train)\n",
    "print(\"Ex A_2, accuracy:\",clf.score(X_train, y_train))\n",
    "\n",
    "# Ex A.3\n",
    "\n",
    "# Separate vectors\n",
    "X1 = X_train[clf.support_, 0]\n",
    "X2 = X_train[clf.support_, 1]\n",
    "y_pred = y_train[clf.support_]\n",
    "\n",
    "# Meshgrid\n",
    "x_min, x_max = X1.min() - 0.1, X1.max() + 0.1\n",
    "y_min, y_max = X2.min() - 0.1, X2.max() + 0.1\n",
    "xx, yy = np.meshgrid(np.arange(x_min, x_max, .01),\n",
    "                     np.arange(y_min, y_max, .01))\n",
    "\n",
    "# plot boundary with support vector    \n",
    "fig = plt.figure()\n",
    "fig.suptitle(\"Ex A, Decision boundary with support vector\")\n",
    "ax = fig.add_subplot(1, 1, 1)\n",
    "Z = clf.predict(np.c_[xx.ravel(), yy.ravel()])\n",
    "\n",
    "# Map of predictions\n",
    "Z = Z.reshape(xx.shape)\n",
    "\n",
    "# Show the boundary\n",
    "ax.contour(xx, yy, Z, colors='r')\n",
    "\n",
    "# plot support vectors\n",
    "ax.scatter(X1, X2, s=1,c=y_pred)\n",
    "\n",
    "# plot boundary with data    \n",
    "fig = plt.figure()\n",
    "fig.suptitle(\"Ex A, Decision boundary with data\")\n",
    "ax = fig.add_subplot(1, 1, 1)\n",
    "ax.contour(xx, yy, Z,colors='r')\n",
    "ax.scatter(X_train[:,0], X_train[:,1], s=.5,c=y_train)\n",
    "plt.show()\n"
   ]
  }
 ],
 "metadata": {
  "kernelspec": {
   "display_name": "Python 3",
   "language": "python",
   "name": "python3"
  },
  "language_info": {
   "codemirror_mode": {
    "name": "ipython",
    "version": 3
   },
   "file_extension": ".py",
   "mimetype": "text/x-python",
   "name": "python",
   "nbconvert_exporter": "python",
   "pygments_lexer": "ipython3",
   "version": "3.7.10"
  },
  "varInspector": {
   "cols": {
    "lenName": 16,
    "lenType": 16,
    "lenVar": 40
   },
   "kernels_config": {
    "python": {
     "delete_cmd_postfix": "",
     "delete_cmd_prefix": "del ",
     "library": "var_list.py",
     "varRefreshCmd": "print(var_dic_list())"
    },
    "r": {
     "delete_cmd_postfix": ") ",
     "delete_cmd_prefix": "rm(",
     "library": "var_list.r",
     "varRefreshCmd": "cat(var_dic_list()) "
    }
   },
   "types_to_exclude": [
    "module",
    "function",
    "builtin_function_or_method",
    "instance",
    "_Feature"
   ],
   "window_display": false
  }
 },
 "nbformat": 4,
 "nbformat_minor": 5
}
